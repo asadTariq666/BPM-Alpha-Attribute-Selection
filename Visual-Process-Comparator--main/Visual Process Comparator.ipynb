{
 "cells": [
  {
   "cell_type": "code",
   "execution_count": 1,
   "metadata": {
    "collapsed": true
   },
   "outputs": [
    {
     "data": {
      "text/plain": "parsing log, completed traces ::   0%|          | 0/484 [00:00<?, ?it/s]",
      "application/vnd.jupyter.widget-view+json": {
       "version_major": 2,
       "version_minor": 0,
       "model_id": "4aa4eb283a66493685984142536a9407"
      }
     },
     "metadata": {},
     "output_type": "display_data"
    },
    {
     "data": {
      "text/plain": "parsing log, completed traces ::   0%|          | 0/147 [00:00<?, ?it/s]",
      "application/vnd.jupyter.widget-view+json": {
       "version_major": 2,
       "version_minor": 0,
       "model_id": "2e99d270439143b9bce019e5583db962"
      }
     },
     "metadata": {},
     "output_type": "display_data"
    },
    {
     "data": {
      "text/plain": "parsing log, completed traces ::   0%|          | 0/82 [00:00<?, ?it/s]",
      "application/vnd.jupyter.widget-view+json": {
       "version_major": 2,
       "version_minor": 0,
       "model_id": "187aad46e4624179a60d392443ebdeb1"
      }
     },
     "metadata": {},
     "output_type": "display_data"
    },
    {
     "data": {
      "text/plain": "parsing log, completed traces ::   0%|          | 0/67 [00:00<?, ?it/s]",
      "application/vnd.jupyter.widget-view+json": {
       "version_major": 2,
       "version_minor": 0,
       "model_id": "fa858c13e0564344bccc478f4ed7f9d6"
      }
     },
     "metadata": {},
     "output_type": "display_data"
    },
    {
     "data": {
      "text/plain": "parsing log, completed traces ::   0%|          | 0/51 [00:00<?, ?it/s]",
      "application/vnd.jupyter.widget-view+json": {
       "version_major": 2,
       "version_minor": 0,
       "model_id": "48b029a3d2bc41e1ab5d88e27fd22f26"
      }
     },
     "metadata": {},
     "output_type": "display_data"
    },
    {
     "data": {
      "text/plain": "parsing log, completed traces ::   0%|          | 0/44 [00:00<?, ?it/s]",
      "application/vnd.jupyter.widget-view+json": {
       "version_major": 2,
       "version_minor": 0,
       "model_id": "751b5c4248ae4a01936d9da8e4eff0c7"
      }
     },
     "metadata": {},
     "output_type": "display_data"
    },
    {
     "data": {
      "text/plain": "parsing log, completed traces ::   0%|          | 0/23 [00:00<?, ?it/s]",
      "application/vnd.jupyter.widget-view+json": {
       "version_major": 2,
       "version_minor": 0,
       "model_id": "daab803478714a7c98c91acae2c3a702"
      }
     },
     "metadata": {},
     "output_type": "display_data"
    },
    {
     "data": {
      "text/plain": "parsing log, completed traces ::   0%|          | 0/22 [00:00<?, ?it/s]",
      "application/vnd.jupyter.widget-view+json": {
       "version_major": 2,
       "version_minor": 0,
       "model_id": "477db5040d364008a1986541919acdfa"
      }
     },
     "metadata": {},
     "output_type": "display_data"
    },
    {
     "data": {
      "text/plain": "parsing log, completed traces ::   0%|          | 0/22 [00:00<?, ?it/s]",
      "application/vnd.jupyter.widget-view+json": {
       "version_major": 2,
       "version_minor": 0,
       "model_id": "aeea487d52094cf9bb6ce18dcda011c8"
      }
     },
     "metadata": {},
     "output_type": "display_data"
    },
    {
     "data": {
      "text/plain": "parsing log, completed traces ::   0%|          | 0/13 [00:00<?, ?it/s]",
      "application/vnd.jupyter.widget-view+json": {
       "version_major": 2,
       "version_minor": 0,
       "model_id": "a60b4c179d354c069e4d287ee13cc67a"
      }
     },
     "metadata": {},
     "output_type": "display_data"
    },
    {
     "data": {
      "text/plain": "parsing log, completed traces ::   0%|          | 0/13 [00:00<?, ?it/s]",
      "application/vnd.jupyter.widget-view+json": {
       "version_major": 2,
       "version_minor": 0,
       "model_id": "fe2b95bf07ee4918b49f78129f9fab24"
      }
     },
     "metadata": {},
     "output_type": "display_data"
    }
   ],
   "source": [
    "import pm4py\n",
    "from pm4py.objects.log.importer.xes import importer as xes_importer\n",
    "\n",
    "Mainlog = xes_importer.apply('D:\\Thesis\\Sepsis/Sepsis_top10.xes')\n",
    "event_log1 = xes_importer.apply('D:\\Thesis\\Sepsis/1C.xes')\n",
    "event_log2 = xes_importer.apply('D:\\Thesis\\Sepsis/2B.xes')\n",
    "event_log3 = xes_importer.apply('D:\\Thesis\\Sepsis/3E.xes')\n",
    "event_log4 = xes_importer.apply('D:\\Thesis\\Sepsis/4H.xes')\n",
    "event_log5 = xes_importer.apply('D:\\Thesis\\Sepsis/5G.xes')\n",
    "event_log6 = xes_importer.apply('D:\\Thesis\\Sepsis/6D.xes')\n",
    "event_log7 = xes_importer.apply('D:\\Thesis\\Sepsis/7K.xes')\n",
    "event_log8 = xes_importer.apply('D:\\Thesis\\Sepsis/8R.xes')\n",
    "event_log9 = xes_importer.apply('D:\\Thesis\\Sepsis/9Q.xes')\n",
    "event_log10 = xes_importer.apply('D:\\Thesis\\Sepsis/10S.xes')\n",
    "\n",
    "\n"
   ]
  },
  {
   "cell_type": "code",
   "execution_count": null,
   "outputs": [],
   "source": [
    "import itertools\n",
    "import os\n",
    "\n",
    "\n",
    "names = [event_log1,event_log2,event_log3,event_log4,event_log5,event_log6,event_log7\n",
    "         ,event_log8,event_log9,event_log10]\n",
    "\n",
    "for name1, name2 in itertools.combinations(names, 2):\n",
    "    df_name1 = [k for k,v in globals().items() if id(v) == id(name1)][0]\n",
    "    df_name2 = [k for k,v in globals().items() if id(v) == id(name2)][0]\n",
    "\n",
    "    filename = df_name1 +' vs '+ df_name2\n",
    "\n",
    "\n",
    "    print(filename)\n",
    "\n",
    "    visual_process_comparator(Mainlog1,name1, name2,filename)"
   ],
   "metadata": {
    "collapsed": false
   }
  },
  {
   "cell_type": "code",
   "execution_count": 2,
   "outputs": [],
   "source": [
    "import os\n",
    "\n",
    "import pydot\n",
    "\n",
    "import colorsys\n",
    "\n",
    "def visual_process_comparator(Mainlog,log1,log2,filename):\n",
    "\n",
    "    dfg1, start_activities1, end_activities1= pm4py.discover_dfg(Mainlog, case_id_key='case:concept:name', activity_key='concept:name', timestamp_key='time:timestamp')\n",
    "    dfg2, start_activities2, end_activities2 = pm4py.discover_dfg(log1, case_id_key='case:concept:name', activity_key='concept:name', timestamp_key='time:timestamp')\n",
    "    dfg3, start_activities3, end_activities3 = pm4py.discover_dfg(log2, case_id_key='case:concept:name', activity_key='concept:name', timestamp_key='time:timestamp')\n",
    "\n",
    "    num_of_frq = int(len(dfg1)*.40)\n",
    "    # print(num_of_frq)\n",
    "\n",
    "    dfg_data1= dfg1.most_common(num_of_frq)\n",
    "    dfg_data2= dfg2.most_common()\n",
    "    dfg_data3= dfg3.most_common()\n",
    "\n",
    "\n",
    "\n",
    "\n",
    "\n",
    "\n",
    "    def color_by_value(value):\n",
    "\n",
    "        middle = 0.27777777777777773\n",
    "        dif = 0.27777777777777773\n",
    "        nv = (value*dif)\n",
    "        new_value = middle + nv\n",
    "        hsv = (new_value,1,255)\n",
    "        rgb = colorsys.hsv_to_rgb(hsv[0], hsv[1], hsv[2])\n",
    "        hex_color = rgb_to_hex(round(rgb[0]),round(rgb[1]),round(rgb[2]))\n",
    "        return hex_color\n",
    "\n",
    "    def rgb_to_hex(r, g, b):\n",
    "        return '#{:02x}{:02x}{:02x}'.format(r, g, b)\n",
    "\n",
    "\n",
    "\n",
    "\n",
    "\n",
    "\n",
    "    log1 = dfg_data1\n",
    "    sublog1 = dfg_data2\n",
    "    sublog2 = dfg_data3\n",
    "\n",
    "    # Create dictionary of frequencies of log1\n",
    "    log1_dict = {}\n",
    "    for (edge, freq) in log1:\n",
    "        log1_dict[edge] = freq\n",
    "\n",
    "    # Create dictionaries of frequencies for sublog1 and sublog2\n",
    "    sublog1_dict = {}\n",
    "    for (edge, freq) in sublog1:\n",
    "        sublog1_dict[edge] = freq\n",
    "\n",
    "    sublog2_dict = {}\n",
    "    for (edge, freq) in sublog2:\n",
    "        sublog2_dict[edge] = freq\n",
    "\n",
    "\n",
    "\n",
    "    sublog1_frequencies_summation = {}\n",
    "    sublog1_max_frequency = {}\n",
    "\n",
    "    for (n1, n2), frequency in sublog1:\n",
    "        sublog1_frequencies_summation[n1] = sublog1_frequencies_summation.get(n1, 0) + frequency\n",
    "        sublog1_max_frequency[n1] = max(sublog1_max_frequency.get(n1, 0), frequency)\n",
    "        sublog1_max_frequency[n2] = max(sublog1_max_frequency.get(n2, 0), frequency)\n",
    "\n",
    "\n",
    "    sublog2_frequencies_summation = {}\n",
    "    sublog2_max_frequency = {}\n",
    "\n",
    "    for (n1, n2), frequency in sublog2:\n",
    "        sublog2_frequencies_summation[n1] = sublog2_frequencies_summation.get(n1, 0) + frequency\n",
    "        sublog2_max_frequency[n1] = max(sublog2_max_frequency.get(n1, 0), frequency)\n",
    "        sublog2_max_frequency[n2] = max(sublog2_max_frequency.get(n2, 0), frequency)\n",
    "\n",
    "\n",
    "\n",
    "    # Create the graph\n",
    "    graph = pydot.Dot(graph_type='digraph', rankdir=\"LR\", labelloc=\"top\", labeljust=\"left\",dpi=600)\n",
    "\n",
    "\n",
    "\n",
    "    # Add edges to the graph\n",
    "    for edge in log1_dict.keys():\n",
    "        # Check if edge exists in both sublogs\n",
    "        if edge in sublog1_dict and edge in sublog2_dict:\n",
    "            log1_freq = log1_dict[edge]\n",
    "            sublog1_freq = sublog1_dict[edge]\n",
    "            sublog2_freq = sublog2_dict[edge]\n",
    "            sublog1_freq_summation = sublog1_frequencies_summation[edge[0]]\n",
    "            sublog2_freq_summation = sublog2_frequencies_summation[edge[0]]\n",
    "            sublog1_max_value = sublog1_max_frequency[edge[0]]\n",
    "            sublog2_max_value = sublog2_max_frequency[edge[0]]\n",
    "\n",
    "            diff = 0\n",
    "\n",
    "            if(sublog1_freq_summation ==0 and sublog2_freq_summation ==0):\n",
    "                diff = 0\n",
    "                width = 0.25\n",
    "            elif(sublog1_freq_summation ==0):\n",
    "                diff = - (sublog2_freq/sublog2_freq_summation)\n",
    "                width = ((sublog2_freq/sublog2_freq_summation)) +0.5\n",
    "            elif(sublog2_freq_summation ==0):\n",
    "                diff = (sublog1_freq/sublog1_freq_summation)\n",
    "                width = ((sublog1_freq/sublog1_freq_summation)) +0.5\n",
    "            else:\n",
    "                diff = ((sublog1_freq/sublog1_freq_summation) - (sublog2_freq/sublog2_freq_summation))\n",
    "\n",
    "            diff_percentage = diff * 100\n",
    "    #         print(diff)\n",
    "    #         edge_label = f\"{diff_percentage:.2f}%\"\n",
    "    #         edge_label = f\"Frequency1: {sublog1_freq} Frequency2: {sublog2_freq} Difference: {diff_percentage:.2f}%\"\n",
    "            edge_label = f\" F1: {sublog1_freq} , F2:  {sublog2_freq} , {diff_percentage:.2f}%\"\n",
    "\n",
    "\n",
    "\n",
    "            width = ((sublog1_freq/sublog1_freq_summation)+(sublog2_freq/sublog2_freq_summation)) +0.5\n",
    "    #         print(width)\n",
    "    #         print('diff ', diff)\n",
    "\n",
    "            col = color_by_value(diff)\n",
    "    #         print(col)\n",
    "\n",
    "\n",
    "            edge = pydot.Edge(edge[0], edge[1], label=edge_label, color=col,penwidth=width)\n",
    "            graph.add_edge(edge)\n",
    "\n",
    "        elif edge in sublog1_dict:\n",
    "            sublog1_freq = sublog1_dict[edge]\n",
    "            sublog1_freq_summation = sublog1_frequencies_summation[edge[0]]\n",
    "            width = ((sublog1_freq/sublog1_freq_summation)) +0.5\n",
    "            edge_label = f\" F1: {sublog1_freq}\"\n",
    "            col='#ff2200'\n",
    "\n",
    "            edge = pydot.Edge(edge[0], edge[1], label=edge_label, color=col,penwidth=width)\n",
    "            graph.add_edge(edge)\n",
    "\n",
    "        elif edge in sublog2_dict:\n",
    "            sublog2_freq = sublog2_dict[edge]\n",
    "            sublog2_freq_summation = sublog2_frequencies_summation[edge[0]]\n",
    "            width = ((sublog2_freq/sublog2_freq_summation)) +0.5\n",
    "            edge_label = f\" F2: {sublog2_freq}\"\n",
    "            col='#004cff'\n",
    "\n",
    "            edge = pydot.Edge(edge[0], edge[1], label=edge_label, color=col,penwidth=width)\n",
    "            graph.add_edge(edge)\n",
    "\n",
    "        else:\n",
    "            edge = pydot.Edge(edge[0], edge[1], shape='box',color='grey',penwidth = 0.25)\n",
    "            graph.add_edge(edge)\n",
    "\n",
    "\n",
    "\n",
    "    csv_dir = 'D:\\Sepsis image/'\n",
    "    new_filename = filename+ '.png'\n",
    "\n",
    "    # Save the combined dataframe to the new file\n",
    "    graph.write_png(os.path.join(csv_dir, new_filename))\n"
   ],
   "metadata": {
    "collapsed": false
   }
  },
  {
   "cell_type": "code",
   "execution_count": null,
   "outputs": [],
   "source": [],
   "metadata": {
    "collapsed": false
   }
  }
 ],
 "metadata": {
  "kernelspec": {
   "display_name": "Python 3",
   "language": "python",
   "name": "python3"
  },
  "language_info": {
   "codemirror_mode": {
    "name": "ipython",
    "version": 2
   },
   "file_extension": ".py",
   "mimetype": "text/x-python",
   "name": "python",
   "nbconvert_exporter": "python",
   "pygments_lexer": "ipython2",
   "version": "2.7.6"
  }
 },
 "nbformat": 4,
 "nbformat_minor": 0
}
